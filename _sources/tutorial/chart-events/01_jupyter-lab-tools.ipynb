{
 "cells": [
  {
   "cell_type": "markdown",
   "id": "3b2b2b57",
   "metadata": {},
   "source": [
    "(plotly:jupyter-lab-tools)=\n",
    "# 为 Output 创建一个新视图\n",
    "\n",
    "显示一个 `FigureWidget`，然后创建一个新窗口来显示它，这样您就可以滚动代码，但仍然注意您在做什么。\n",
    "\n",
    "<img src='https://media.githubusercontent.com/media/xinet-collections/test-dastsets/main/tests/create_view_for_output_jupyter_lab.gif'>\n",
    "\n",
    "## 查看实时更新\n",
    "\n",
    "通过输出视图，可以很容易地充分利用 `FigureWidgets` 新的命令式 graph 更新，因为您可以同时看到代码和图形。\n",
    "\n",
    "<img src='https://media.githubusercontent.com/media/xinet-collections/test-dastsets/main/tests/demonstrate_view_jupyter_lab.gif'>"
   ]
  }
 ],
 "metadata": {
  "jupytext": {
   "formats": "md:myst",
   "text_representation": {
    "extension": ".md",
    "format_name": "myst",
    "format_version": 0.13,
    "jupytext_version": "1.10.3"
   }
  },
  "kernelspec": {
   "display_name": "ai",
   "language": "python",
   "name": "ai"
  },
  "language_info": {
   "codemirror_mode": {
    "name": "ipython",
    "version": 3
   },
   "file_extension": ".py",
   "mimetype": "text/x-python",
   "name": "python",
   "nbconvert_exporter": "python",
   "pygments_lexer": "ipython3",
   "version": "3.8.5"
  },
  "source_map": [
   13
  ]
 },
 "nbformat": 4,
 "nbformat_minor": 5
}