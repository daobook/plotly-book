{
 "cells": [
  {
   "cell_type": "markdown",
   "id": "97b9a10a",
   "metadata": {},
   "source": [
    "(plotly:click-events)=\n",
    "# 使用点击回调更新点"
   ]
  },
  {
   "cell_type": "code",
   "execution_count": 1,
   "id": "07a0e53d",
   "metadata": {
    "tags": [
     "hide-output"
    ]
   },
   "outputs": [
    {
     "data": {
      "application/vnd.jupyter.widget-view+json": {
       "model_id": "3bb4bc70aab74b36bcde967dfbc5bb66",
       "version_major": 2,
       "version_minor": 0
      },
      "text/plain": [
       "FigureWidget({\n",
       "    'data': [{'marker': {'color': [#a3a7e4, #a3a7e4, #a3a7e4, #a3a7e4, #a3a7e4,\n",
       "               …"
      ]
     },
     "metadata": {},
     "output_type": "display_data"
    }
   ],
   "source": [
    "import plotly.graph_objects as go\n",
    "\n",
    "import numpy as np\n",
    "np.random.seed(1)\n",
    "\n",
    "x = np.random.rand(100)\n",
    "y = np.random.rand(100)\n",
    "\n",
    "f = go.FigureWidget([go.Scatter(x=x, y=y, mode='markers')])\n",
    "\n",
    "scatter = f.data[0]\n",
    "colors = ['#a3a7e4'] * 100\n",
    "scatter.marker.color = colors\n",
    "scatter.marker.size = [10] * 100\n",
    "f.layout.hovermode = 'closest'\n",
    "\n",
    "\n",
    "# create our callback function\n",
    "def update_point(trace, points, selector):\n",
    "    c = list(scatter.marker.color)\n",
    "    s = list(scatter.marker.size)\n",
    "    for i in points.point_inds:\n",
    "        c[i] = '#bae2be'\n",
    "        s[i] = 20\n",
    "        with f.batch_update():\n",
    "            scatter.marker.color = c\n",
    "            scatter.marker.size = s\n",
    "\n",
    "\n",
    "scatter.on_click(update_point)\n",
    "\n",
    "f"
   ]
  },
  {
   "cell_type": "markdown",
   "id": "54410da0",
   "metadata": {},
   "source": [
    "<img src='https://media.githubusercontent.com/media/xinet-collections/test-dastsets/main/tests/figurewidget-click-event.gif'>\n",
    "\n",
    "## 参考"
   ]
  },
  {
   "cell_type": "code",
   "execution_count": 2,
   "id": "006f2f9b",
   "metadata": {
    "tags": [
     "output_scroll"
    ]
   },
   "outputs": [
    {
     "name": "stdout",
     "output_type": "stream",
     "text": [
      "Help on method on_click in module plotly.basedatatypes:\n",
      "\n",
      "on_click(callback, append=False) method of plotly.graph_objs._scatter.Scatter instance\n",
      "    Register function to be called when the user clicks on one or more\n",
      "    points in this trace.\n",
      "    \n",
      "    Note: Callbacks will only be triggered when the trace belongs to a\n",
      "    instance of plotly.graph_objs.FigureWidget and it is displayed in an\n",
      "    ipywidget context. Callbacks will not be triggered on figures\n",
      "    that are displayed using plot/iplot.\n",
      "    \n",
      "    Parameters\n",
      "    ----------\n",
      "    callback\n",
      "        Callable function that accepts 3 arguments\n",
      "    \n",
      "        - this trace\n",
      "        - plotly.callbacks.Points object\n",
      "        - plotly.callbacks.InputDeviceState object\n",
      "    \n",
      "    append : bool\n",
      "        If False (the default), this callback replaces any previously\n",
      "        defined on_click callbacks for this trace. If True,\n",
      "        this callback is appended to the list of any previously defined\n",
      "        callbacks.\n",
      "    \n",
      "    Returns\n",
      "    -------\n",
      "    None\n",
      "    \n",
      "    Examples\n",
      "    --------\n",
      "    \n",
      "    >>> import plotly.graph_objects as go\n",
      "    >>> from plotly.callbacks import Points, InputDeviceState\n",
      "    >>> points, state = Points(), InputDeviceState()\n",
      "    \n",
      "    >>> def click_fn(trace, points, state):\n",
      "    ...     inds = points.point_inds\n",
      "    ...     # Do something\n",
      "    \n",
      "    >>> trace = go.Scatter(x=[1, 2], y=[3, 0])\n",
      "    >>> trace.on_click(click_fn)\n",
      "    \n",
      "    Note: The creation of the `points` and `state` objects is optional,\n",
      "    it's simply a convenience to help the text editor perform completion\n",
      "    on the arguments inside `click_fn`\n",
      "\n"
     ]
    }
   ],
   "source": [
    "import plotly.graph_objects as go\n",
    "f = go.FigureWidget([go.Scatter()])\n",
    "help(f.data[0].on_click)"
   ]
  }
 ],
 "metadata": {
  "jupytext": {
   "formats": "md:myst",
   "text_representation": {
    "extension": ".md",
    "format_name": "myst",
    "format_version": 0.13,
    "jupytext_version": "1.10.3"
   }
  },
  "kernelspec": {
   "display_name": "ai",
   "language": "python",
   "name": "ai"
  },
  "language_info": {
   "codemirror_mode": {
    "name": "ipython",
    "version": 3
   },
   "file_extension": ".py",
   "mimetype": "text/x-python",
   "name": "python",
   "nbconvert_exporter": "python",
   "pygments_lexer": "ipython3",
   "version": "3.8.5"
  },
  "source_map": [
   13,
   18,
   52,
   58
  ],
  "widgets": {
   "application/vnd.jupyter.widget-state+json": {
    "state": {
     "3bb4bc70aab74b36bcde967dfbc5bb66": {
      "buffers": [
       {
        "data": "Bjz6D32w2j9R8Lrz5QznPwDAYWaQ+x0/9Aj+t2pZ0z88Bcej5cjCPxDKsIyAo7c/5OE05l/Xxz/Oo1u9qh3WP+j7e2ejZNk/VJ9il/w94T+KlYE6FdTaPycjGXJR7eU/DGIYx30ryj9KFuu8iRnsP8CsZ0R+C5w/qeWnR3h05T/+WqgzH7XaPwsJuX3J4OE/3KoG/zL4wT9ESHS8Y1vJP18n3RKzn+k/EAY2s//77j9YDr5IJA/UP5SWEsKBJ+Y/3sd1Q2EL7D/jC1EnnqDsP1gcjBp1xbU/kKZ5Ef3+oz/8qPLQAL3FP+eerk6+Gew/iGT6EkItuT8ujF9lbfPaP7irpfEHp+4/yErKpLAP4T+slCh52yPmP+API3loMdQ/MB0iy9D35T+VcKblQLXqP6C5X4QpupI/twF/pi4B6D+xfaQCwKTvP8CoMRn58Oc/9q6RW8vy0T+edOO4xkHpP9D/WAIFbbo/IADBm0mq3D/7emLgNhPtPyIaOv+SytI/arf0QOlq0j8IlGW4xqTAP4AotIru1JM/st2qSwW55T9QMpFOoRbLP3g1ZGq3/tA/NNSsRO913z8Q5zfkVVKrPz+sdOIrX+I/VPhNfwDIwj8SPgtJl9viP06P7KRrZOY/kAIS0ZYyuj8qeZmv5H/aP53k+K2GOOY/XCZTxOmB2j8wtf3wf5OpPxxvLjgQJuE/R1OPRM495T/Yayu7+HngPz+EHsgeOu4/C1KIEw/F4j9hxCkiq+jsP0TtKmfFmME/QDBGrs7TwT94pYJBJtbpP5qxToyJc9k/8NBvilMqxT9o7nF5Jq7tP+5skbzLQdY/ASWNGqcG6D+wWIEgYDvnP/3EwiILROw/nkuXah/14z8Cb2ptuAfoP+4ZG7ZZVNY/TC3aon9G0T/z2gKTGavsP/D8DJfYZds/AvMLPPjf7j9NEP6p6TrlPyKQS2zu5OM/2LQu+f1fvT/dmkFMN2LuP/Ss10Jcy9w/53DE7yqC4j9O1gnT6R7aP6zrNGzmVs4//xwWK3zo7D/YlzQVlVviPwDuSBeDg2c/opmcsKa/4z8=",
        "encoding": "base64",
        "path": [
         "_data",
         0,
         "x",
         "buffer"
        ]
       },
       {
        "data": "0gqhBMDn1D9kOQn0qN3gPz4P1j6jWew/Ut/D+4Hd1j9a8Q5PuBLtPzCc3umQ8uM/QKBuonEzkD84p1Mn873tP4aONNrTG+Y/ccNHnBHq7z/8QY/3QA/GP1xd4guqjcE/IpDEcNLX7T95dNuZVUzmP9AhXydj5bA/CnII2sAs6D/uktX0wB/oP898MsBqie0/h1ATks/E5j/gTYPFONC/P8BkujJ1W5Q/YCW+jQ3Xmj+AdkFBYPycP4xYoiHYg88/paUnVVmF6z8XUu2kGj7hP1fk3re3sOE/nf8cxerx6j/w1XmH0sm/P/CBuzgl3tE/jb9HOoq+4j/v9Kup7QbvP+areKX18+E/ADgQaEYYkz/YtihpyJ7pP5xvetsZ0s0/qqhzRs7T6T+yT2pztdLYP/zqAYcious/gxS2pWvo5z/gqbZRuMzhP1BcymVdd8E/MEzQCYitrj+Qdv1dXRC/P5B1pvqAz6Y/wM0FObyEuz+8e9wpC+TMPwndJETO0OY/DQeeljPp4T/AlDgh87aJP4hkawnobLI/bHlxfe3z7j+UPBkF4S3iPxz6LkGDBco/rpM34Rom0D9Tf6Xga83nP4z2BE/VA8k/hgp8CX6a4j/wNzNcZwrvPw299rY4Ges/7GTH1FSzzj+ChqJJ7JnfP5xR7V+t1uM/J3SS8wKH6j/sSiaMvRHEPyDrV9OjBZM/UBZFofjssT+c0YI+RyDfP/jfDAsNZ+M/kTXS7Qc04j84LkFsqk/UP8v1b1i+ou8/m4mV2EWN4j/U/xGkO1TYP23T3CheoeE/N3Cql8fZ5z+CPtkZW2rlPyTiDilx9NA/0Kp02FH7sD+4rbOhda/XP2cKTFSlJuQ/VNaGYfvmyj8zGabQkhboP4AmaOuICLE/vDDDqACp0D+Js5KkjMDpP9Bt5V50wsg/F2xOqnZ25D/0y1tjGcrgP0lAfuIGmO0/oJyYstrZ0D8Q30t30+KwP0VIFw6phec/tH7ysq616D84YKnU0wztPzWMvxa30u0/gHlDbaSSjD/MK6irk//NP8h8BvelvOM/aSeXeVde7j8=",
        "encoding": "base64",
        "path": [
         "_data",
         0,
         "y",
         "buffer"
        ]
       }
      ],
      "model_module": "jupyterlab-plotly",
      "model_module_version": "^5.1.0",
      "model_name": "FigureModel",
      "state": {
       "_config": {
        "plotlyServerURL": "https://plot.ly"
       },
       "_data": [
        {
         "mode": "markers",
         "type": "scatter",
         "uid": "2fcf783f-3eca-43fe-9dd4-bf205d5eac1f",
         "x": {
          "dtype": "float64",
          "shape": [
           100
          ]
         },
         "y": {
          "dtype": "float64",
          "shape": [
           100
          ]
         }
        }
       ],
       "_dom_classes": [],
       "_js2py_layoutDelta": {},
       "_js2py_pointsCallback": {},
       "_js2py_relayout": {},
       "_js2py_restyle": {},
       "_js2py_traceDeltas": {},
       "_js2py_update": {},
       "_last_layout_edit_id": 3,
       "_last_trace_edit_id": 2,
       "_layout": {},
       "_model_module": "jupyterlab-plotly",
       "_model_module_version": "^5.1.0",
       "_model_name": "FigureModel",
       "_py2js_addTraces": {},
       "_py2js_animate": {},
       "_py2js_deleteTraces": {},
       "_py2js_moveTraces": {},
       "_py2js_relayout": null,
       "_py2js_removeLayoutProps": {},
       "_py2js_removeTraceProps": {},
       "_py2js_restyle": null,
       "_py2js_update": {},
       "_view_count": 0,
       "_view_module": "jupyterlab-plotly",
       "_view_module_version": "^5.1.0",
       "_view_name": "FigureView"
      }
     },
     "6a4334a19f564240a4971b5e2804b94f": {
      "model_module": "jupyterlab-plotly",
      "model_module_version": "^5.1.0",
      "model_name": "FigureModel",
      "state": {
       "_config": {
        "plotlyServerURL": "https://plot.ly"
       },
       "_data": [
        {
         "type": "scatter",
         "uid": "f92a2b73-992f-4c14-80d0-2953bc657db0"
        }
       ],
       "_dom_classes": [],
       "_js2py_layoutDelta": {},
       "_js2py_pointsCallback": {},
       "_js2py_relayout": {},
       "_js2py_restyle": {},
       "_js2py_traceDeltas": {},
       "_js2py_update": {},
       "_last_layout_edit_id": 0,
       "_last_trace_edit_id": 0,
       "_layout": {},
       "_model_module": "jupyterlab-plotly",
       "_model_module_version": "^5.1.0",
       "_model_name": "FigureModel",
       "_py2js_addTraces": {},
       "_py2js_animate": {},
       "_py2js_deleteTraces": {},
       "_py2js_moveTraces": {},
       "_py2js_relayout": null,
       "_py2js_removeLayoutProps": {},
       "_py2js_removeTraceProps": {},
       "_py2js_restyle": {},
       "_py2js_update": {},
       "_view_count": 0,
       "_view_module": "jupyterlab-plotly",
       "_view_module_version": "^5.1.0",
       "_view_name": "FigureView"
      }
     }
    },
    "version_major": 2,
    "version_minor": 0
   }
  }
 },
 "nbformat": 4,
 "nbformat_minor": 5
}