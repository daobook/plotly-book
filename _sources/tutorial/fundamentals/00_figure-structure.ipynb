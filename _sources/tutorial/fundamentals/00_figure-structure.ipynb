{
 "cells": [
  {
   "cell_type": "markdown",
   "id": "cbfedbdc",
   "metadata": {},
   "source": [
    "(plotly:figure-structure)=\n",
    "# 图数据结构\n",
    "\n",
    "参考：[The Figure Data Structure | Python | Plotly](https://plotly.com/python/figure-structure/)\n",
    "\n",
    "对图的数据结构、轨迹和布局进行说明。\n",
    "\n",
    "## 概览\n",
    "\n",
    "`plotly` Python 包的存在是为了 [创建、操作](plotly:creating-and-updating-figures) 和 [渲染](plotly:renderers) 由数据结构(也称为 figures)表示的图(即 charts, plots, maps 和 diagrams)。虽然渲染过程在底层使用 [Plotly.js JavaScript 库](https://plotly.com/javascript/)，但使用该模块的 Python 开发人员很少需要直接与 JavaScript 库交互。在 Python 中，图形可以表示为 `dict`，也可以表示为 `plotly.graph_objects.Figure` 类的实例，并在传递给 `Plotly.js` 之前以 [JavaScript 对象表示法](https://json.org/)(JSON)的文本形式序列化。\n",
    "\n",
    "```{note}\n",
    "`plotly` 包的推荐入口点是高级 [`plotly.express` 模块，也称为 Plotly Express](plotly:plotly-express) ，它由返回 `plotly.graph_objects.Figure` 对象的函数组成。此页面用于记录这些对象所表示的数据结构体系，以便希望更多地了解如何自定义它们或从其他图形组装它们的用户 [使用 plotly.graph_objects 组件](plotly:graph-objects)。\n",
    "```\n",
    "\n",
    "查看任何 `plotly.graph_objects.Figure` 的底层数据结构，包括那些由 Plotly Express 返回的对象，可以通过 `print(fig)` 或在 JupyterLab 中，使用特殊的 `fig.show(\"json\")` 渲染器来实现。图也支持 `fig.to_dict()` 和 `fig.to_json()` 方法。`print()` 图将打印冗长的内容。为简便起见 `layout.template` 被表示为 `'...'`。"
   ]
  },
  {
   "cell_type": "code",
   "execution_count": 1,
   "id": "061063d5",
   "metadata": {},
   "outputs": [
    {
     "name": "stdout",
     "output_type": "stream",
     "text": [
      "Figure({\n",
      "    'data': [{'hovertemplate': 'x=%{x}<br>y=%{y}<extra></extra>',\n",
      "              'legendgroup': '',\n",
      "              'line': {'color': '#636efa', 'dash': 'solid'},\n",
      "              'mode': 'lines',\n",
      "              'name': '',\n",
      "              'orientation': 'v',\n",
      "              'showlegend': False,\n",
      "              'type': 'scatter',\n",
      "              'x': [a, b, c],\n",
      "              'xaxis': 'x',\n",
      "              'y': array([1, 3, 2]),\n",
      "              'yaxis': 'y'}],\n",
      "    'layout': {'legend': {'tracegroupgap': 0},\n",
      "               'template': '...',\n",
      "               'title': {'text': 'sample figure'},\n",
      "               'xaxis': {'anchor': 'y', 'domain': [0.0, 1.0], 'title': {'text': 'x'}},\n",
      "               'yaxis': {'anchor': 'x', 'domain': [0.0, 1.0], 'title': {'text': 'y'}}}\n",
      "})\n"
     ]
    },
    {
     "data": {
      "application/vnd.jupyter.widget-view+json": {
       "model_id": "01665f76845a48a5bfd9edfaa64a8d0f",
       "version_major": 2,
       "version_minor": 0
      },
      "text/plain": [
       "FigureWidget({\n",
       "    'data': [{'hovertemplate': 'x=%{x}<br>y=%{y}<extra></extra>',\n",
       "              'legendgroup': …"
      ]
     },
     "metadata": {},
     "output_type": "display_data"
    }
   ],
   "source": [
    "import plotly.express as px\n",
    "import plotly.graph_objects as go\n",
    "\n",
    "fig = px.line(x=[\"a\",\"b\",\"c\"], y=[1,3,2], title=\"sample figure\")\n",
    "print(fig)\n",
    "f = go.FigureWidget(fig) # go.FigureWidget 保证正常显示\n",
    "f"
   ]
  },
  {
   "cell_type": "markdown",
   "id": "39bd65f7",
   "metadata": {},
   "source": [
    "## 在 Dash 中访问图形结构"
   ]
  },
  {
   "cell_type": "code",
   "execution_count": 2,
   "id": "4b65bd3c",
   "metadata": {
    "tags": [
     "remove-input"
    ]
   },
   "outputs": [
    {
     "data": {
      "text/html": [
       "\n",
       "<iframe\n",
       "    width=\"100%\"\n",
       "    height=\"630\"\n",
       "    src=\"https://dash-gallery.plotly.host/python-docs-dash-snippets/figure-structure\"\n",
       "    frameborder=\"0\"\n",
       "    allowfullscreen\n",
       "></iframe>\n"
      ],
      "text/plain": [
       "<IPython.lib.display.IFrame at 0x7f71c81bb910>"
      ]
     },
     "execution_count": 2,
     "metadata": {},
     "output_type": "execute_result"
    }
   ],
   "source": [
    "from IPython.display import IFrame\n",
    "snippet_url = 'https://dash-gallery.plotly.host/python-docs-dash-snippets/'\n",
    "IFrame(snippet_url + 'figure-structure', width='100%', height=630)"
   ]
  },
  {
   "cell_type": "markdown",
   "id": "7d99cbc4",
   "metadata": {},
   "source": [
    "## 图作为属性树\n",
    "\n",
    "`Plotly.js` 支持良定义的模式的输入，该模式的总体架构在本页面中进行了解释，[图参考](https://plotly.com/python/reference/index/)（图参考本身是由模式的[机器可读 JSON 表示](https://raw.githubusercontent.com/plotly/plotly.js/master/dist/plot-schema.json)生成的）中详细记录了它。图以树的形式表示，树的命名节点称为“属性”。树的根节点有三个顶级属性：`data`、 `layout` 和 `frames`。\n",
    "\n",
    "在文本和[图参考](https://plotly.com/python/reference/index/)中，属性是通过其完整的“路径”来引用的，即以点分隔的父级连接。例如 `\"layout.width\"` 指的是在一个字典中其键为`width`的属性，该属性是与图根的键`layout`相关联的值。如果父类中的一个是列表而不是字典，当引用抽象中的属性时，会在路径中插入一组方括号 `layout.annotations[].text`。最后，如下所述，顶级 `data` 属性定义了一个称为 “轨迹” 的类型化对象列表，其模式依赖于该类型，这些属性的路径在此引用中列出为 `\"data[type=scatter].name\"`。\n",
    "\n",
    "[`plotly.graph_objects` 模块包含一个自动生成的 Python 类层次结构](plotly:graph-objects)，这些类代表图模式中的非叶子属性，并为它们提供了一个 Python API。当 [操作 `plotly.graph_objects.Figure` 对象](plotly:creating-and-updating-figures) 时，属性可以直接使用 Python 对象属性设置，例如`fig.layout.title.font.family=\"Open Sans\"`或使用 `update` 方法和 [](plotly:magic-underscore-notation)，例如 `fig.update_layout(title_font_family=\"Open Sans\")`。\n",
    "\n",
    "在构建图形时，没有必要填充每个对象的每个属性。在渲染时，JavaScript 层将计算每个需要的未指定属性的默认值，具体取决于指定的属性，如本页所示。例如`layout.xaxis.range`，它可以显式指定，但是如果没有，将基于链接到该轴的每个跟踪的 `x` 值的范围进行计算。尽管 `plotly.graph_objects`模块为属性值提供了 Python 端验证，但 JavaScript 层将忽略未知的属性或畸形的值。还请注意，如果[ `layout.template` 键](plotly:templates)是存在的(因为它是默认的)，那么默认值将首先从模板的内容中提取，只有在那里缺失时，JavaScript 层才会推断出进一步的默认值。内置模板可以通过设置`layout.template=\"none\"`来禁用。\n",
    "\n",
    "## 顶级 `data` 属性\n",
    "\n",
    "图的三个顶级属性中的第一个是 `data`，它的值必须是一个称为“轨迹”（\"traces\"）的字典列表。\n",
    "\n",
    "* 每个轨迹可能是超过 40 种类型中的一种(见下面按子图类型组织的列表，包括例如 [](plotly:basic-charts/line-and-scatter)、[](plotly:basic-charts/bar-charts)、[](plotly:basic-charts/pie-charts)、[](plotly:3d-charts/3d-surface-plots)、[](plotly:maps/choropleth-maps)，并表示一组相关的图形标记。每个轨迹必须有一个 `type` 属性，该属性定义其他被允许的属性。\n",
    "* 每个轨迹都绘制在一个 [](plotly:subplots) 上，该子图的类型必须与轨迹的类型兼容，或者是它自己的子图(参见下面)。\n",
    "* 轨迹可能只有一个 [](plotly:legend) 项，但饼图和漏斗区域轨迹（funnelarea traces）除外(见下文)。\n",
    "* 某些轨迹类型支持 [带有关联颜色条的连续颜色](plotly:colorscales)，当使用 `coloraxis` 属性时，可以通过轨迹内的属性或布局内的属性来控制颜色条。\n",
    "\n",
    "## 顶级 `layout` 属性\n",
    "\n",
    "图的三个顶级属性中的第二个是 `layout`，它的值在文本中称为\"布局\"，必须是一个字典，包含控制图中非数据相关部分的定位和配置的属性，例如：\n",
    "\n",
    "- 尺寸和边距，定义了“纸张坐标”的边界\n",
    "- 图的默认值：[模板](plotly:templates)、[字体、标题、颜色、悬停标签](plotly:figure-labels) 和 mobar\n",
    "- 可在容器和/或纸坐标中定位 [标题](plotly:figure-labels) 和 [](plotly:legend)\n",
    "- 可在纸坐标中定位 [标题](plotly:figure-labels) 和 [颜色轴和相关的颜色条](plotly:colorscales)\n",
    "- 各种类型的子图，可在其上绘制多个轨迹，并在纸坐标中定位：\n",
    "  - `xaxis`, `yaxis`, `xaxis2`, `yaxis3` 等：X 和 Y 笛卡儿轴，它们的交点是笛卡儿子图\n",
    "  - `scene`, `scene2`, `scene3`等：3D 场景子图\n",
    "  - `ternary`, `ternary2`, `ternary3`, `polar`, `polar2`, `polar3`, `geo`, `geo2`, `geo3`, `mapbox`, `mapbox2`, `mabox3`等：三元，极坐标，地理或 mapbox 子图\n",
    "- 非数据标记，可以在纸坐标中定位，也可以在链接到二维笛卡尔子图的数据坐标中定位\n",
    "  * `annotations`：[带有或不带有箭头的文本注释](plotly:text-and-annotations)\n",
    "  * `shapes`：[直线，矩形，椭圆或开放或封闭的路径](plotly:shapes)\n",
    "  * `images`：[背景或装饰图像](plotly:images)\n",
    "- 可以在纸坐标中定位的控件，当用户与之交互时，可以触发 Plotly.js 函数\n",
    "  * `updatemenus`：[](plotly:controls/custom-buttons) 和 [](plotly:controls/dropdowns)\n",
    "  * `sliders`：[](plotly:controls/sliders)\n",
    "\n",
    "## 顶级 `frames` 属性\n",
    "\n",
    "图的三个顶级属性中的第三个是 `frames`，它的值必须是一个字典列表，在 {doc}`animation plot<../animations/index>` 中定义顺序帧。每个帧包含自己的数据属性和其他参数。动画通常是通过 `layout.sliders` 和/或 `layout.updatemenus` 定义的控件来触发和控制的。\n",
    "\n",
    "## `config` 对象\n",
    "\n",
    "在 [](plotly:renderers) 时，也可以控制某些不属于图的行为，例如“modebar”的行为，以及图如何与鼠标操作(如滚动等)相关联。包含这些选项的对象称为 `config`，[并且有自己的文档页](plotly:configuration-options)。它在 Python 中作为 `plotly.graph_objects.Figure` 对象上的 `.show()` 方法的 `config` 关键字参数。\n",
    "\n",
    "## 定位：纸坐标，容器坐标，或轴域坐标\n",
    "\n",
    "在图布局中配置的各种图组件支持名为 `x` 或 `y` 的定位属性，它们的值可以在“纸坐标”(有时称为“绘图分数”（\"plot fractions\"）或“标准化坐标”（\"normalized coordinates\"）)中指定。例如，包含 `layout.xaxis.domain` 或 `layout.legend.x` 或 `layout.annotation[].x`。\n",
    "\n",
    "在纸坐标中定位不是绝对像素，而是相对于原点 `(0,0)` 在 `(layout.margin.l, layout.margin.b)`，且 `(1,1)` 在 `(layout.width-layout.margin.r, layout.height-layout.margin.t)` 处d定义的(注：`layout.margin` 是像素值，`layout.width` 也是)。允许纸张坐标值小于 0 或大于 1，指示 plot 边缘的区域。\n",
    "\n",
    "要在“纸”坐标中定位一个对象，相应的轴参考系被设置为 `\"paper\"`。例如，一个形状的 `xref` 属性将被设置为 `\"paper\"`，因此形状的 `x` 值指的是它在纸坐标中的位置。\n",
    "\n",
    "请注意 `layout.margin` 属性的内容，默认情况下是根据某些项(如标题或图例)的位置和尺寸计算的，当将 `layout.xaxis.autommargin` 属性设置为 `True` 时，也可以根据 `tick` 标签的位置和尺寸计算。这将自动增加边界值，从而缩小 `(0,0)` 和 `(1,1)` 点之间定义的物理区域。将某些项定位于小于 0 或大于 1 的纸坐标也会触发此行为。然而，`layout.width` 和 `layout.height` 被认为是既定的，所以这个图永远不会因其内容而增加或减少。\n",
    "\n",
    "图形标题可以使用“容器坐标”来定位，容器坐标 `(0,0)` 和 `(1,1)` 分别锚定在图形的左下和右上，因此与 `layout.margin` 的值无关。\n",
    "\n",
    "此外，形状、注释和图像可以相对于轴的域放置，例如，`x` 值为 `0.5` 将把对象放置在 x 轴的中间位置，而不管 `layout.xaxis.domain` 属性中指定的域是什么。可以通过在对象的 `axis` 引用属性中向 axis 引用添加 `' domain'` 来指定此行为。例如，为一个形状设置 `yref = 'y2 domain'` 将引用命名为 `y2` 的轴的长度和位置。\n",
    "\n",
    "## 2D 笛卡尔轨迹类型和子图\n",
    "\n",
    "最常用的一种子图是 [二维笛卡尔（Cartesian）子图](plotly:axes)。与这些子绘图兼容的轨迹支持 `xaxis` 和 `yaxis` 属性，它们的值必须引用图布局部分中的相应对象。例如，如果 `xaxis=\"x\"`，且 `yaxis=\"y\"`(这是默认值)，则该轨迹将绘制在轴配置下的 `layout.xaxis` 和 `layout.xaxis2` 的交集，但如果 `xaxis=\"x2\"` 和 `yaxis=\"y3\"`，则轨迹绘制在布局中配置的轴 `layout.xaxis2` 和 `layout.yaxis3` 的交点上。注意像 `layout.xaxis` 和 `layout.xaxis2` 等这样的属性不需要显式定义，在这种情况下将推断默认值。在同一副图上可以绘制多个不同类型的轨迹。\n",
    "\n",
    "X 与 Y 轴支持 `type` 属性，它能够表示 [连续值 (`type=\"linear\"`, `type=\"log\"`)](plotly:axes), [瞬时值 (`type=\"date\"`)](plotly:financial-charts/time-series) or [分类值 (`type=\"category\"`, `type=\"multicategory`)](../basic-charts/bar-charts)。Axes can also be overlaid on top of one another to create [dual-axis or multiple-axis charts](plotly:multiple-axes). 2-d cartesian subplots lend themselves very well to creating [\"small multiples\" figures, also known as facet or trellis plots](../statistical-charts/facet-plots).\n",
    "\n",
    "The following trace types are compatible with 2d-cartesian subplots via the `xaxis` and `yaxis` attributes:\n",
    "\n",
    "* scatter-like trace types: [`scatter`](../basic-charts/line-and-scatter) and [`scattergl`](../basic-charts/webgl-vs-svg), which can be used to draw [`scatter`](../basic-charts/line-and-scatter), [line plots and curves](../basic-charts/line-charts), [time-series plots](plotly:financial-charts/time-series), [bubble charts](../basic-charts/bubble-charts), [dot plots](../basic-charts/dot-plots) and [filled areas](../basic-charts/filled-area-plots) and also support [error bars](../statistical-charts/error-bars)\n",
    "* [`bar`](../basic-charts/bar-charts), [`funnel`](plotly:financial-charts/funnel-charts), [`waterfall`](plotly:financial-charts/waterfall-charts): bar-like trace types which can also be used to draw [timelines and Gantt charts](../basic-charts/gantt)\n",
    "* [`histogram`](../statistical-charts/histograms): an *aggregating* bar-like trace type\n",
    "* [`box`](../statistical-charts/box-plots) and [`violin`](../statistical-charts/box-plots): 1-dimensional distribution-like trace types\n",
    "* [`histogram2d`](../statistical-charts/2D-Histogram) and [`histogram2dcontour`](../statistical-charts/2d-histogram-contour): 2-dimensional distribution-like density trace types\n",
    "* [`image`](../scientific-charts/imshow), [`heatmap`](../scientific-charts/heatmaps) and [`contour`](../scientific-charts/contour-plots): matrix trace types\n",
    "* [`ohlc`](plotly:financial-charts/ohlc-charts) and [`candlestick`](plotly:financial-charts/candlestick-charts): stock-like trace types\n",
    "* [`carpet`](../scientific-charts/carpet-plot): a special trace type for building [carpet plots](../scientific-charts/carpet-plot), in that other traces can use as subplots (see below)\n",
    "* [`splom`](../statistical-charts/splom): multi-dimensional scatter plots which implicitly refer to many 2-d cartesian subplots at once.\n",
    "\n",
    "## 3D, Polar and Ternary Trace Types and Subplots\n",
    "\n",
    "Beyond 2D cartesian subplots, figures can include [three-dimensional cartesian subplots](../3d-charts/index), [polar subplots](../scientific-charts/polar-chart) and [ternary subplots](../scientific-charts/ternary-plots). The following trace types support attributes named `scene`, `polar` or `ternary`, whose values must refer to corresponding objects in the layout portion of the figure i.e. `ternary=\"ternary2\"` etc. Note that attributes such as `layout.scene` and `layout.ternary2` etc do not have to be explicitly defined, in which case default values will be inferred. Multiple traces of a compatible type can be placed on the same subplot.\n",
    "\n",
    "The following trace types are compatible with 3D subplots via the `scene` attribute, which contains special [camera controls](../3d-charts/3d-camera-controls):\n",
    "\n",
    "* [`scatter3d`](../3d-charts/3d-scatter-plots), which can be used to draw [individual markers](../3d-charts/3d-scatter-plots), [3d bubble charts](../3d-charts/3d-bubble-charts) and [lines and curves](../3d-charts/3d-line-plots)\n",
    "* [`surface`](../3d-charts/3d-surface-plots) and [`mesh`](../3d-charts/3d-mesh): 3d surface trace types\n",
    "* [`cone`](../3d-charts/cone-plot) and [`streamtube`](../3d-charts/streamtube-plot): 3d vector field trace types\n",
    "* [`volume`](../3d-charts/3d-volume-plots) and [`isosurface`](../3d-charts/3d-isosurface-plots): 3d volume trace types\n",
    "\n",
    "The following trace types are compatible with polar subplots via the `polar` attribute:\n",
    "\n",
    "* scatter-like trace types: [`scatterpolar` and `scatterpolargl`](../scientific-charts/polar-chart), which can be used to draw individual markers, [curves and filled areas (i.e. radar or spider charts)](../scientific-charts/radar-chart)\n",
    "* [`barpolar`](../scientific-charts/wind-rose-charts): useful for [wind roses](../scientific-charts/wind-rose-charts) and other polar bar charts\n",
    "\n",
    "The following trace types are compatible with ternary subplots via the `ternary` attribute:\n",
    "\n",
    "* [`scatterternary`](../scientific-charts/ternary-plots), which can be used to draw individual markers, [curves and filled areas](../scientific-charts/ternary-contour)\n",
    "\n",
    "## Map Trace Types and Subplots\n",
    "\n",
    "Figures can include two different types of map subplots: [geo subplots for outline maps](https://plotly.com/python/map-configuration/) and [mapbox subplots for tile maps](https://plotly.com/python/mapbox-layers/). The following trace types support attributes named `geo` or `mapbox`, whose values must refer to corresponding objects in the layout i.e. `geo=\"geo2\"` etc. Note that attributes such as `layout.geo2` and `layout.mapbox` etc do not have to be explicitly defined, in which case default values will be inferred. Multiple traces of a compatible type can be placed on the same subplot.\n",
    "\n",
    "The following trace types are compatible with geo subplots via the `geo` attribute:\n",
    "\n",
    "*   [`scattergeo`](https://plotly.com/python/scatter-plots-on-maps/), which can be used to draw [individual markers](https://plotly.com/python/scatter-plots-on-maps/), [line and curves](https://plotly.com/python/lines-on-maps/) and filled areas on outline maps\n",
    "*   [`choropleth`](https://plotly.com/python/choropleth-maps/): [colored polygons](https://plotly.com/python/choropleth-maps/) on outline maps\n",
    "\n",
    "The following trace types are compatible with mapbox subplots via the `mapbox` attribute:\n",
    "\n",
    "*   [`scattermapbox`](https://plotly.com/python/scattermapbox/), which can be used to draw [individual markers](https://plotly.com/python/scattermapbox/), [lines and curves](https://plotly.com/python/lines-on-mapbox/) and [filled areas](https://plotly.com/python/filled-area-on-mapbox/) on tile maps\n",
    "*   [`choroplethmapbox`](https://plotly.com/python/mapbox-county-choropleth/): colored polygons on tile maps\n",
    "*   [`densitymapbox`](https://plotly.com/python/mapbox-density-heatmaps/): density heatmaps on tile maps\n",
    "\n",
    "## Traces Which Are Their Own Subplots\n",
    "\n",
    "Certain trace types cannot share subplots, and hence have no attribute to map to a corresponding subplot in the layout. Instead, these traces are their own subplot and support a `domain` attribute for position, which enables the trace to be positioned in paper coordinates (see below). With the exception of `pie` and `funnelarea`, such traces also do not support legends (see below)\n",
    "\n",
    "The following trace types are their own subplots and support a domain attribute:\n",
    "\n",
    "* [`pie`](https://plotly.com/python/pie-charts/) and [`funnelarea`](https://plotly.com/python/waterfall-charts/): one-level part-to-whole relationships with legend items\n",
    "* [`sunburst`](https://plotly.com/python/sunburst-charts/) and [`treemap`](https://plotly.com/python/treemaps/): hierarchical multi-level part-to-whole relationships\n",
    "* [`parcoords`](https://plotly.com/python/parallel-coordinates-plot/) and [`parcats`](https://plotly.com/python/parallel-categories-diagram/): continuous and categorical multidimensional figures with [parallel coordinates](https://plotly.com/python/parallel-coordinates-plot/) and [parallel sets](https://plotly.com/python/parallel-categories-diagram/)\n",
    "* [`sankey`](https://plotly.com/python/sankey-diagram/): [flow diagrams](https://plotly.com/python/sankey-diagram/)\n",
    "* [`table`](https://plotly.com/python/table/): [text-based tables](https://plotly.com/python/table/)\n",
    "* [`indicator`](https://plotly.com/python/indicator/): big numbers, [gauges](https://plotly.com/python/gauge-charts/), and [bullet charts](https://plotly.com/python/bullet-charts/)\n",
    "\n",
    "## Carpet Trace Types and Subplots\n",
    "\n",
    "Certain trace types use [traces of type `carpet` as a subplot](https://plotly.com/python/carpet-plot/). These support a `carpet` attribute whose value must match the value of the `carpet` attribute of the `carpet` trace they are to be drawn on. Multiple compatible traces can be placed on the same `carpet` trace.\n",
    "\n",
    "The following trace types are compatible with `carpet` trace subplots via the `carpet` attribute:\n",
    "\n",
    "* [`scattercarpet`](https://plotly.com/python/carpet-scatter/), which can be used to draw individual markers, curves and filled areas\n",
    "* [`contourcarpet`](https://plotly.com/python/carpet-plot/)\n",
    "\n",
    "## Trace Types, Legends and Color Bars\n",
    "\n",
    "Traces of most types can be optionally associated with a single legend item in the [legend](https://plotly.com/python/legend/). Whether or not a given trace appears in the legend is controlled via the `showlegend` attribute. Traces which are their own subplots (see above) do not support this, with the exception of traces of type `pie` and `funnelarea` for which every distinct color represented in the trace gets a separate legend item. Users may show or hide traces by clicking or double-clicking on their associated legend item. Traces that support legend items also support the `legendgroup` attribute, and all traces with the same legend group are treated the same way during click/double-click interactions.\n",
    "\n",
    "The fact that legend items are linked to traces means that when using [discrete color](https://plotly.com/python/discrete-color/), a figure must have one trace per color in order to get a meaningful legend. [Plotly Express has robust support for discrete color](https://plotly.com/python/discrete-color/) to make this easy.\n",
    "\n",
    "Traces which support [continuous color](https://plotly.com/python/colorscales/) can also be associated with color axes in the layout via the `coloraxis` attribute. Multiple traces can be linked to the same color axis. Color axes have a legend-like component called color bars. Alternatively, color axes can be configured within the trace itself."
   ]
  }
 ],
 "metadata": {
  "jupytext": {
   "formats": "md:myst",
   "text_representation": {
    "extension": ".md",
    "format_name": "myst",
    "format_version": 0.13,
    "jupytext_version": "1.10.3"
   }
  },
  "kernelspec": {
   "display_name": "ai",
   "language": "python",
   "name": "ai"
  },
  "language_info": {
   "codemirror_mode": {
    "name": "ipython",
    "version": 3
   },
   "file_extension": ".py",
   "mimetype": "text/x-python",
   "name": "python",
   "nbconvert_exporter": "python",
   "pygments_lexer": "ipython3",
   "version": "3.8.5"
  },
  "source_map": [
   13,
   32,
   40,
   44,
   50
  ],
  "widgets": {
   "application/vnd.jupyter.widget-state+json": {
    "state": {
     "01665f76845a48a5bfd9edfaa64a8d0f": {
      "model_module": "jupyterlab-plotly",
      "model_module_version": "^5.1.0",
      "model_name": "FigureModel",
      "state": {
       "_config": {
        "plotlyServerURL": "https://plot.ly"
       },
       "_data": [
        {
         "hovertemplate": "x=%{x}<br>y=%{y}<extra></extra>",
         "legendgroup": "",
         "line": {
          "color": "#636efa",
          "dash": "solid"
         },
         "mode": "lines",
         "name": "",
         "orientation": "v",
         "showlegend": false,
         "type": "scatter",
         "uid": "8b7bfece-06df-4d7a-a4f2-a718c3df54ee",
         "x": [
          "a",
          "b",
          "c"
         ],
         "xaxis": "x",
         "y": [
          1,
          3,
          2
         ],
         "yaxis": "y"
        }
       ],
       "_dom_classes": [],
       "_js2py_layoutDelta": {},
       "_js2py_pointsCallback": {},
       "_js2py_relayout": {},
       "_js2py_restyle": {},
       "_js2py_traceDeltas": {},
       "_js2py_update": {},
       "_last_layout_edit_id": 0,
       "_last_trace_edit_id": 0,
       "_layout": {
        "legend": {
         "tracegroupgap": 0
        },
        "template": {
         "data": {
          "bar": [
           {
            "error_x": {
             "color": "#2a3f5f"
            },
            "error_y": {
             "color": "#2a3f5f"
            },
            "marker": {
             "line": {
              "color": "#E5ECF6",
              "width": 0.5
             },
             "pattern": {
              "fillmode": "overlay",
              "size": 10,
              "solidity": 0.2
             }
            },
            "type": "bar"
           }
          ],
          "barpolar": [
           {
            "marker": {
             "line": {
              "color": "#E5ECF6",
              "width": 0.5
             },
             "pattern": {
              "fillmode": "overlay",
              "size": 10,
              "solidity": 0.2
             }
            },
            "type": "barpolar"
           }
          ],
          "carpet": [
           {
            "aaxis": {
             "endlinecolor": "#2a3f5f",
             "gridcolor": "white",
             "linecolor": "white",
             "minorgridcolor": "white",
             "startlinecolor": "#2a3f5f"
            },
            "baxis": {
             "endlinecolor": "#2a3f5f",
             "gridcolor": "white",
             "linecolor": "white",
             "minorgridcolor": "white",
             "startlinecolor": "#2a3f5f"
            },
            "type": "carpet"
           }
          ],
          "choropleth": [
           {
            "colorbar": {
             "outlinewidth": 0,
             "ticks": ""
            },
            "type": "choropleth"
           }
          ],
          "contour": [
           {
            "colorbar": {
             "outlinewidth": 0,
             "ticks": ""
            },
            "colorscale": [
             [
              0.0,
              "#0d0887"
             ],
             [
              0.1111111111111111,
              "#46039f"
             ],
             [
              0.2222222222222222,
              "#7201a8"
             ],
             [
              0.3333333333333333,
              "#9c179e"
             ],
             [
              0.4444444444444444,
              "#bd3786"
             ],
             [
              0.5555555555555556,
              "#d8576b"
             ],
             [
              0.6666666666666666,
              "#ed7953"
             ],
             [
              0.7777777777777778,
              "#fb9f3a"
             ],
             [
              0.8888888888888888,
              "#fdca26"
             ],
             [
              1.0,
              "#f0f921"
             ]
            ],
            "type": "contour"
           }
          ],
          "contourcarpet": [
           {
            "colorbar": {
             "outlinewidth": 0,
             "ticks": ""
            },
            "type": "contourcarpet"
           }
          ],
          "heatmap": [
           {
            "colorbar": {
             "outlinewidth": 0,
             "ticks": ""
            },
            "colorscale": [
             [
              0.0,
              "#0d0887"
             ],
             [
              0.1111111111111111,
              "#46039f"
             ],
             [
              0.2222222222222222,
              "#7201a8"
             ],
             [
              0.3333333333333333,
              "#9c179e"
             ],
             [
              0.4444444444444444,
              "#bd3786"
             ],
             [
              0.5555555555555556,
              "#d8576b"
             ],
             [
              0.6666666666666666,
              "#ed7953"
             ],
             [
              0.7777777777777778,
              "#fb9f3a"
             ],
             [
              0.8888888888888888,
              "#fdca26"
             ],
             [
              1.0,
              "#f0f921"
             ]
            ],
            "type": "heatmap"
           }
          ],
          "heatmapgl": [
           {
            "colorbar": {
             "outlinewidth": 0,
             "ticks": ""
            },
            "colorscale": [
             [
              0.0,
              "#0d0887"
             ],
             [
              0.1111111111111111,
              "#46039f"
             ],
             [
              0.2222222222222222,
              "#7201a8"
             ],
             [
              0.3333333333333333,
              "#9c179e"
             ],
             [
              0.4444444444444444,
              "#bd3786"
             ],
             [
              0.5555555555555556,
              "#d8576b"
             ],
             [
              0.6666666666666666,
              "#ed7953"
             ],
             [
              0.7777777777777778,
              "#fb9f3a"
             ],
             [
              0.8888888888888888,
              "#fdca26"
             ],
             [
              1.0,
              "#f0f921"
             ]
            ],
            "type": "heatmapgl"
           }
          ],
          "histogram": [
           {
            "marker": {
             "pattern": {
              "fillmode": "overlay",
              "size": 10,
              "solidity": 0.2
             }
            },
            "type": "histogram"
           }
          ],
          "histogram2d": [
           {
            "colorbar": {
             "outlinewidth": 0,
             "ticks": ""
            },
            "colorscale": [
             [
              0.0,
              "#0d0887"
             ],
             [
              0.1111111111111111,
              "#46039f"
             ],
             [
              0.2222222222222222,
              "#7201a8"
             ],
             [
              0.3333333333333333,
              "#9c179e"
             ],
             [
              0.4444444444444444,
              "#bd3786"
             ],
             [
              0.5555555555555556,
              "#d8576b"
             ],
             [
              0.6666666666666666,
              "#ed7953"
             ],
             [
              0.7777777777777778,
              "#fb9f3a"
             ],
             [
              0.8888888888888888,
              "#fdca26"
             ],
             [
              1.0,
              "#f0f921"
             ]
            ],
            "type": "histogram2d"
           }
          ],
          "histogram2dcontour": [
           {
            "colorbar": {
             "outlinewidth": 0,
             "ticks": ""
            },
            "colorscale": [
             [
              0.0,
              "#0d0887"
             ],
             [
              0.1111111111111111,
              "#46039f"
             ],
             [
              0.2222222222222222,
              "#7201a8"
             ],
             [
              0.3333333333333333,
              "#9c179e"
             ],
             [
              0.4444444444444444,
              "#bd3786"
             ],
             [
              0.5555555555555556,
              "#d8576b"
             ],
             [
              0.6666666666666666,
              "#ed7953"
             ],
             [
              0.7777777777777778,
              "#fb9f3a"
             ],
             [
              0.8888888888888888,
              "#fdca26"
             ],
             [
              1.0,
              "#f0f921"
             ]
            ],
            "type": "histogram2dcontour"
           }
          ],
          "mesh3d": [
           {
            "colorbar": {
             "outlinewidth": 0,
             "ticks": ""
            },
            "type": "mesh3d"
           }
          ],
          "parcoords": [
           {
            "line": {
             "colorbar": {
              "outlinewidth": 0,
              "ticks": ""
             }
            },
            "type": "parcoords"
           }
          ],
          "pie": [
           {
            "automargin": true,
            "type": "pie"
           }
          ],
          "scatter": [
           {
            "marker": {
             "colorbar": {
              "outlinewidth": 0,
              "ticks": ""
             }
            },
            "type": "scatter"
           }
          ],
          "scatter3d": [
           {
            "line": {
             "colorbar": {
              "outlinewidth": 0,
              "ticks": ""
             }
            },
            "marker": {
             "colorbar": {
              "outlinewidth": 0,
              "ticks": ""
             }
            },
            "type": "scatter3d"
           }
          ],
          "scattercarpet": [
           {
            "marker": {
             "colorbar": {
              "outlinewidth": 0,
              "ticks": ""
             }
            },
            "type": "scattercarpet"
           }
          ],
          "scattergeo": [
           {
            "marker": {
             "colorbar": {
              "outlinewidth": 0,
              "ticks": ""
             }
            },
            "type": "scattergeo"
           }
          ],
          "scattergl": [
           {
            "marker": {
             "colorbar": {
              "outlinewidth": 0,
              "ticks": ""
             }
            },
            "type": "scattergl"
           }
          ],
          "scattermapbox": [
           {
            "marker": {
             "colorbar": {
              "outlinewidth": 0,
              "ticks": ""
             }
            },
            "type": "scattermapbox"
           }
          ],
          "scatterpolar": [
           {
            "marker": {
             "colorbar": {
              "outlinewidth": 0,
              "ticks": ""
             }
            },
            "type": "scatterpolar"
           }
          ],
          "scatterpolargl": [
           {
            "marker": {
             "colorbar": {
              "outlinewidth": 0,
              "ticks": ""
             }
            },
            "type": "scatterpolargl"
           }
          ],
          "scatterternary": [
           {
            "marker": {
             "colorbar": {
              "outlinewidth": 0,
              "ticks": ""
             }
            },
            "type": "scatterternary"
           }
          ],
          "surface": [
           {
            "colorbar": {
             "outlinewidth": 0,
             "ticks": ""
            },
            "colorscale": [
             [
              0.0,
              "#0d0887"
             ],
             [
              0.1111111111111111,
              "#46039f"
             ],
             [
              0.2222222222222222,
              "#7201a8"
             ],
             [
              0.3333333333333333,
              "#9c179e"
             ],
             [
              0.4444444444444444,
              "#bd3786"
             ],
             [
              0.5555555555555556,
              "#d8576b"
             ],
             [
              0.6666666666666666,
              "#ed7953"
             ],
             [
              0.7777777777777778,
              "#fb9f3a"
             ],
             [
              0.8888888888888888,
              "#fdca26"
             ],
             [
              1.0,
              "#f0f921"
             ]
            ],
            "type": "surface"
           }
          ],
          "table": [
           {
            "cells": {
             "fill": {
              "color": "#EBF0F8"
             },
             "line": {
              "color": "white"
             }
            },
            "header": {
             "fill": {
              "color": "#C8D4E3"
             },
             "line": {
              "color": "white"
             }
            },
            "type": "table"
           }
          ]
         },
         "layout": {
          "annotationdefaults": {
           "arrowcolor": "#2a3f5f",
           "arrowhead": 0,
           "arrowwidth": 1
          },
          "autotypenumbers": "strict",
          "coloraxis": {
           "colorbar": {
            "outlinewidth": 0,
            "ticks": ""
           }
          },
          "colorscale": {
           "diverging": [
            [
             0,
             "#8e0152"
            ],
            [
             0.1,
             "#c51b7d"
            ],
            [
             0.2,
             "#de77ae"
            ],
            [
             0.3,
             "#f1b6da"
            ],
            [
             0.4,
             "#fde0ef"
            ],
            [
             0.5,
             "#f7f7f7"
            ],
            [
             0.6,
             "#e6f5d0"
            ],
            [
             0.7,
             "#b8e186"
            ],
            [
             0.8,
             "#7fbc41"
            ],
            [
             0.9,
             "#4d9221"
            ],
            [
             1,
             "#276419"
            ]
           ],
           "sequential": [
            [
             0.0,
             "#0d0887"
            ],
            [
             0.1111111111111111,
             "#46039f"
            ],
            [
             0.2222222222222222,
             "#7201a8"
            ],
            [
             0.3333333333333333,
             "#9c179e"
            ],
            [
             0.4444444444444444,
             "#bd3786"
            ],
            [
             0.5555555555555556,
             "#d8576b"
            ],
            [
             0.6666666666666666,
             "#ed7953"
            ],
            [
             0.7777777777777778,
             "#fb9f3a"
            ],
            [
             0.8888888888888888,
             "#fdca26"
            ],
            [
             1.0,
             "#f0f921"
            ]
           ],
           "sequentialminus": [
            [
             0.0,
             "#0d0887"
            ],
            [
             0.1111111111111111,
             "#46039f"
            ],
            [
             0.2222222222222222,
             "#7201a8"
            ],
            [
             0.3333333333333333,
             "#9c179e"
            ],
            [
             0.4444444444444444,
             "#bd3786"
            ],
            [
             0.5555555555555556,
             "#d8576b"
            ],
            [
             0.6666666666666666,
             "#ed7953"
            ],
            [
             0.7777777777777778,
             "#fb9f3a"
            ],
            [
             0.8888888888888888,
             "#fdca26"
            ],
            [
             1.0,
             "#f0f921"
            ]
           ]
          },
          "colorway": [
           "#636efa",
           "#EF553B",
           "#00cc96",
           "#ab63fa",
           "#FFA15A",
           "#19d3f3",
           "#FF6692",
           "#B6E880",
           "#FF97FF",
           "#FECB52"
          ],
          "font": {
           "color": "#2a3f5f"
          },
          "geo": {
           "bgcolor": "white",
           "lakecolor": "white",
           "landcolor": "#E5ECF6",
           "showlakes": true,
           "showland": true,
           "subunitcolor": "white"
          },
          "hoverlabel": {
           "align": "left"
          },
          "hovermode": "closest",
          "mapbox": {
           "style": "light"
          },
          "paper_bgcolor": "white",
          "plot_bgcolor": "#E5ECF6",
          "polar": {
           "angularaxis": {
            "gridcolor": "white",
            "linecolor": "white",
            "ticks": ""
           },
           "bgcolor": "#E5ECF6",
           "radialaxis": {
            "gridcolor": "white",
            "linecolor": "white",
            "ticks": ""
           }
          },
          "scene": {
           "xaxis": {
            "backgroundcolor": "#E5ECF6",
            "gridcolor": "white",
            "gridwidth": 2,
            "linecolor": "white",
            "showbackground": true,
            "ticks": "",
            "zerolinecolor": "white"
           },
           "yaxis": {
            "backgroundcolor": "#E5ECF6",
            "gridcolor": "white",
            "gridwidth": 2,
            "linecolor": "white",
            "showbackground": true,
            "ticks": "",
            "zerolinecolor": "white"
           },
           "zaxis": {
            "backgroundcolor": "#E5ECF6",
            "gridcolor": "white",
            "gridwidth": 2,
            "linecolor": "white",
            "showbackground": true,
            "ticks": "",
            "zerolinecolor": "white"
           }
          },
          "shapedefaults": {
           "line": {
            "color": "#2a3f5f"
           }
          },
          "ternary": {
           "aaxis": {
            "gridcolor": "white",
            "linecolor": "white",
            "ticks": ""
           },
           "baxis": {
            "gridcolor": "white",
            "linecolor": "white",
            "ticks": ""
           },
           "bgcolor": "#E5ECF6",
           "caxis": {
            "gridcolor": "white",
            "linecolor": "white",
            "ticks": ""
           }
          },
          "title": {
           "x": 0.05
          },
          "xaxis": {
           "automargin": true,
           "gridcolor": "white",
           "linecolor": "white",
           "ticks": "",
           "title": {
            "standoff": 15
           },
           "zerolinecolor": "white",
           "zerolinewidth": 2
          },
          "yaxis": {
           "automargin": true,
           "gridcolor": "white",
           "linecolor": "white",
           "ticks": "",
           "title": {
            "standoff": 15
           },
           "zerolinecolor": "white",
           "zerolinewidth": 2
          }
         }
        },
        "title": {
         "text": "sample figure"
        },
        "xaxis": {
         "anchor": "y",
         "domain": [
          0.0,
          1.0
         ],
         "title": {
          "text": "x"
         }
        },
        "yaxis": {
         "anchor": "x",
         "domain": [
          0.0,
          1.0
         ],
         "title": {
          "text": "y"
         }
        }
       },
       "_model_module": "jupyterlab-plotly",
       "_model_module_version": "^5.1.0",
       "_model_name": "FigureModel",
       "_py2js_addTraces": {},
       "_py2js_animate": {},
       "_py2js_deleteTraces": {},
       "_py2js_moveTraces": {},
       "_py2js_relayout": {},
       "_py2js_removeLayoutProps": {},
       "_py2js_removeTraceProps": {},
       "_py2js_restyle": {},
       "_py2js_update": {},
       "_view_count": 0,
       "_view_module": "jupyterlab-plotly",
       "_view_module_version": "^5.1.0",
       "_view_name": "FigureView"
      }
     }
    },
    "version_major": 2,
    "version_minor": 0
   }
  }
 },
 "nbformat": 4,
 "nbformat_minor": 5
}